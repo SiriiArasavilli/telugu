{
 "cells": [
  {
   "cell_type": "code",
   "execution_count": 109,
   "id": "0e6a1b53-528d-47c3-b379-647065728603",
   "metadata": {},
   "outputs": [],
   "source": [
    "import numpy as np\n",
    "import pandas as pd"
   ]
  },
  {
   "cell_type": "code",
   "execution_count": 110,
   "id": "e0fdd721-55c4-45c7-9a97-2446420ea5f0",
   "metadata": {},
   "outputs": [],
   "source": [
    "movies = pd.read_csv('TeluguMovies_dataset.csv')"
   ]
  },
  {
   "cell_type": "code",
   "execution_count": 111,
   "id": "25e6ea7c-ad41-490a-9999-f53ff23695f3",
   "metadata": {},
   "outputs": [
    {
     "data": {
      "text/html": [
       "<div>\n",
       "<style scoped>\n",
       "    .dataframe tbody tr th:only-of-type {\n",
       "        vertical-align: middle;\n",
       "    }\n",
       "\n",
       "    .dataframe tbody tr th {\n",
       "        vertical-align: top;\n",
       "    }\n",
       "\n",
       "    .dataframe thead th {\n",
       "        text-align: right;\n",
       "    }\n",
       "</style>\n",
       "<table border=\"1\" class=\"dataframe\">\n",
       "  <thead>\n",
       "    <tr style=\"text-align: right;\">\n",
       "      <th></th>\n",
       "      <th>Unnamed: 0</th>\n",
       "      <th>Movie</th>\n",
       "      <th>Year</th>\n",
       "      <th>Certificate</th>\n",
       "      <th>Genre</th>\n",
       "      <th>Overview</th>\n",
       "      <th>Runtime</th>\n",
       "      <th>Rating</th>\n",
       "      <th>No.of.Ratings</th>\n",
       "    </tr>\n",
       "  </thead>\n",
       "  <tbody>\n",
       "    <tr>\n",
       "      <th>0</th>\n",
       "      <td>0</td>\n",
       "      <td>Bahubali: The Beginning</td>\n",
       "      <td>2015.0</td>\n",
       "      <td>UA</td>\n",
       "      <td>Action, Drama</td>\n",
       "      <td>In ancient India, an adventurous and darin...</td>\n",
       "      <td>159</td>\n",
       "      <td>8.1</td>\n",
       "      <td>99114</td>\n",
       "    </tr>\n",
       "  </tbody>\n",
       "</table>\n",
       "</div>"
      ],
      "text/plain": [
       "   Unnamed: 0                    Movie    Year Certificate  \\\n",
       "0           0  Bahubali: The Beginning  2015.0          UA   \n",
       "\n",
       "                       Genre  \\\n",
       "0  Action, Drama               \n",
       "\n",
       "                                            Overview  Runtime  Rating  \\\n",
       "0      In ancient India, an adventurous and darin...      159     8.1   \n",
       "\n",
       "   No.of.Ratings  \n",
       "0          99114  "
      ]
     },
     "execution_count": 111,
     "metadata": {},
     "output_type": "execute_result"
    }
   ],
   "source": [
    "movies.head(1)"
   ]
  },
  {
   "cell_type": "code",
   "execution_count": 112,
   "id": "b121f11f-f837-4ff0-975e-7df4f3feb3a7",
   "metadata": {},
   "outputs": [
    {
     "data": {
      "text/plain": [
       "(1400, 9)"
      ]
     },
     "execution_count": 112,
     "metadata": {},
     "output_type": "execute_result"
    }
   ],
   "source": [
    "movies.shape"
   ]
  },
  {
   "cell_type": "code",
   "execution_count": 113,
   "id": "6dfedb1f-eb79-4cea-9159-b43c060b427a",
   "metadata": {},
   "outputs": [
    {
     "name": "stdout",
     "output_type": "stream",
     "text": [
      "<class 'pandas.core.frame.DataFrame'>\n",
      "RangeIndex: 1400 entries, 0 to 1399\n",
      "Data columns (total 9 columns):\n",
      " #   Column         Non-Null Count  Dtype  \n",
      "---  ------         --------------  -----  \n",
      " 0   Unnamed: 0     1400 non-null   int64  \n",
      " 1   Movie          1400 non-null   object \n",
      " 2   Year           1352 non-null   float64\n",
      " 3   Certificate    951 non-null    object \n",
      " 4   Genre          1389 non-null   object \n",
      " 5   Overview       1221 non-null   object \n",
      " 6   Runtime        1400 non-null   int64  \n",
      " 7   Rating         1400 non-null   float64\n",
      " 8   No.of.Ratings  1400 non-null   int64  \n",
      "dtypes: float64(2), int64(3), object(4)\n",
      "memory usage: 98.6+ KB\n"
     ]
    }
   ],
   "source": [
    "movies.info()"
   ]
  },
  {
   "cell_type": "code",
   "execution_count": 114,
   "id": "5f3fb0d4-f0f2-45e4-a4e2-af37945e29e6",
   "metadata": {},
   "outputs": [],
   "source": [
    "movies= movies[['Movie','Year','Genre','Overview']]"
   ]
  },
  {
   "cell_type": "code",
   "execution_count": 115,
   "id": "5762abc3-5baa-4a74-b648-64ae5ca57bb3",
   "metadata": {},
   "outputs": [
    {
     "data": {
      "text/html": [
       "<div>\n",
       "<style scoped>\n",
       "    .dataframe tbody tr th:only-of-type {\n",
       "        vertical-align: middle;\n",
       "    }\n",
       "\n",
       "    .dataframe tbody tr th {\n",
       "        vertical-align: top;\n",
       "    }\n",
       "\n",
       "    .dataframe thead th {\n",
       "        text-align: right;\n",
       "    }\n",
       "</style>\n",
       "<table border=\"1\" class=\"dataframe\">\n",
       "  <thead>\n",
       "    <tr style=\"text-align: right;\">\n",
       "      <th></th>\n",
       "      <th>Movie</th>\n",
       "      <th>Year</th>\n",
       "      <th>Genre</th>\n",
       "      <th>Overview</th>\n",
       "    </tr>\n",
       "  </thead>\n",
       "  <tbody>\n",
       "    <tr>\n",
       "      <th>0</th>\n",
       "      <td>Bahubali: The Beginning</td>\n",
       "      <td>2015.0</td>\n",
       "      <td>Action, Drama</td>\n",
       "      <td>In ancient India, an adventurous and darin...</td>\n",
       "    </tr>\n",
       "    <tr>\n",
       "      <th>1</th>\n",
       "      <td>Baahubali 2: The Conclusion</td>\n",
       "      <td>2017.0</td>\n",
       "      <td>Action, Drama</td>\n",
       "      <td>When Shiva, the son of Bahubali, learns ab...</td>\n",
       "    </tr>\n",
       "    <tr>\n",
       "      <th>2</th>\n",
       "      <td>1 - Nenokkadine</td>\n",
       "      <td>2014.0</td>\n",
       "      <td>Action, Thriller</td>\n",
       "      <td>A rock star must overcome his psychologica...</td>\n",
       "    </tr>\n",
       "    <tr>\n",
       "      <th>3</th>\n",
       "      <td>Dhoom:3</td>\n",
       "      <td>2013.0</td>\n",
       "      <td>Action, Thriller</td>\n",
       "      <td>When Sahir, a circus entertainer trained i...</td>\n",
       "    </tr>\n",
       "    <tr>\n",
       "      <th>4</th>\n",
       "      <td>Ra.One</td>\n",
       "      <td>2011.0</td>\n",
       "      <td>Action, Adventure, Sci-Fi</td>\n",
       "      <td>When the titular antagonist of an action g...</td>\n",
       "    </tr>\n",
       "  </tbody>\n",
       "</table>\n",
       "</div>"
      ],
      "text/plain": [
       "                         Movie    Year                                  Genre  \\\n",
       "0      Bahubali: The Beginning  2015.0              Action, Drama               \n",
       "1  Baahubali 2: The Conclusion  2017.0              Action, Drama               \n",
       "2              1 - Nenokkadine  2014.0           Action, Thriller               \n",
       "3                      Dhoom:3  2013.0           Action, Thriller               \n",
       "4                       Ra.One  2011.0  Action, Adventure, Sci-Fi               \n",
       "\n",
       "                                            Overview  \n",
       "0      In ancient India, an adventurous and darin...  \n",
       "1      When Shiva, the son of Bahubali, learns ab...  \n",
       "2      A rock star must overcome his psychologica...  \n",
       "3      When Sahir, a circus entertainer trained i...  \n",
       "4      When the titular antagonist of an action g...  "
      ]
     },
     "execution_count": 115,
     "metadata": {},
     "output_type": "execute_result"
    }
   ],
   "source": [
    "movies.head()"
   ]
  },
  {
   "cell_type": "code",
   "execution_count": 116,
   "id": "203d9516-807f-4394-8835-2b6bb96f7b5c",
   "metadata": {},
   "outputs": [
    {
     "data": {
      "text/plain": [
       "Movie         0\n",
       "Year         48\n",
       "Genre        11\n",
       "Overview    179\n",
       "dtype: int64"
      ]
     },
     "execution_count": 116,
     "metadata": {},
     "output_type": "execute_result"
    }
   ],
   "source": [
    " movies.isnull().sum()"
   ]
  },
  {
   "cell_type": "code",
   "execution_count": 117,
   "id": "5b824d20-b11c-4726-a8da-0e9ad12e9814",
   "metadata": {},
   "outputs": [],
   "source": [
    "movies.dropna(inplace =True)"
   ]
  },
  {
   "cell_type": "code",
   "execution_count": 118,
   "id": "2dc0b756-0f0b-43dc-b75c-9f761e5dda62",
   "metadata": {},
   "outputs": [
    {
     "data": {
      "text/plain": [
       "0"
      ]
     },
     "execution_count": 118,
     "metadata": {},
     "output_type": "execute_result"
    }
   ],
   "source": [
    "movies.duplicated().sum()"
   ]
  },
  {
   "cell_type": "code",
   "execution_count": 119,
   "id": "e9908058-3003-4ba8-b28b-e352a52cf3d8",
   "metadata": {},
   "outputs": [
    {
     "data": {
      "text/plain": [
       "'Action, Drama            '"
      ]
     },
     "execution_count": 119,
     "metadata": {},
     "output_type": "execute_result"
    }
   ],
   "source": [
    "movies.iloc[0].Genre"
   ]
  },
  {
   "cell_type": "code",
   "execution_count": null,
   "id": "05948e9b-9831-407a-88d4-8854e845d5c4",
   "metadata": {},
   "outputs": [],
   "source": []
  },
  {
   "cell_type": "code",
   "execution_count": 120,
   "id": "6b5d5189-34b2-459e-b0e3-e5988e14f2f3",
   "metadata": {},
   "outputs": [],
   "source": [
    "movies['tags'] = movies['Overview'] + movies['Genre']"
   ]
  },
  {
   "cell_type": "code",
   "execution_count": 121,
   "id": "c9235231-6e83-4d75-bd98-be64d242f1a7",
   "metadata": {},
   "outputs": [
    {
     "data": {
      "text/html": [
       "<div>\n",
       "<style scoped>\n",
       "    .dataframe tbody tr th:only-of-type {\n",
       "        vertical-align: middle;\n",
       "    }\n",
       "\n",
       "    .dataframe tbody tr th {\n",
       "        vertical-align: top;\n",
       "    }\n",
       "\n",
       "    .dataframe thead th {\n",
       "        text-align: right;\n",
       "    }\n",
       "</style>\n",
       "<table border=\"1\" class=\"dataframe\">\n",
       "  <thead>\n",
       "    <tr style=\"text-align: right;\">\n",
       "      <th></th>\n",
       "      <th>Movie</th>\n",
       "      <th>Year</th>\n",
       "      <th>Genre</th>\n",
       "      <th>Overview</th>\n",
       "      <th>tags</th>\n",
       "    </tr>\n",
       "  </thead>\n",
       "  <tbody>\n",
       "    <tr>\n",
       "      <th>0</th>\n",
       "      <td>Bahubali: The Beginning</td>\n",
       "      <td>2015.0</td>\n",
       "      <td>Action, Drama</td>\n",
       "      <td>In ancient India, an adventurous and darin...</td>\n",
       "      <td>In ancient India, an adventurous and darin...</td>\n",
       "    </tr>\n",
       "    <tr>\n",
       "      <th>1</th>\n",
       "      <td>Baahubali 2: The Conclusion</td>\n",
       "      <td>2017.0</td>\n",
       "      <td>Action, Drama</td>\n",
       "      <td>When Shiva, the son of Bahubali, learns ab...</td>\n",
       "      <td>When Shiva, the son of Bahubali, learns ab...</td>\n",
       "    </tr>\n",
       "    <tr>\n",
       "      <th>2</th>\n",
       "      <td>1 - Nenokkadine</td>\n",
       "      <td>2014.0</td>\n",
       "      <td>Action, Thriller</td>\n",
       "      <td>A rock star must overcome his psychologica...</td>\n",
       "      <td>A rock star must overcome his psychologica...</td>\n",
       "    </tr>\n",
       "    <tr>\n",
       "      <th>3</th>\n",
       "      <td>Dhoom:3</td>\n",
       "      <td>2013.0</td>\n",
       "      <td>Action, Thriller</td>\n",
       "      <td>When Sahir, a circus entertainer trained i...</td>\n",
       "      <td>When Sahir, a circus entertainer trained i...</td>\n",
       "    </tr>\n",
       "    <tr>\n",
       "      <th>4</th>\n",
       "      <td>Ra.One</td>\n",
       "      <td>2011.0</td>\n",
       "      <td>Action, Adventure, Sci-Fi</td>\n",
       "      <td>When the titular antagonist of an action g...</td>\n",
       "      <td>When the titular antagonist of an action g...</td>\n",
       "    </tr>\n",
       "  </tbody>\n",
       "</table>\n",
       "</div>"
      ],
      "text/plain": [
       "                         Movie    Year                                  Genre  \\\n",
       "0      Bahubali: The Beginning  2015.0              Action, Drama               \n",
       "1  Baahubali 2: The Conclusion  2017.0              Action, Drama               \n",
       "2              1 - Nenokkadine  2014.0           Action, Thriller               \n",
       "3                      Dhoom:3  2013.0           Action, Thriller               \n",
       "4                       Ra.One  2011.0  Action, Adventure, Sci-Fi               \n",
       "\n",
       "                                            Overview  \\\n",
       "0      In ancient India, an adventurous and darin...   \n",
       "1      When Shiva, the son of Bahubali, learns ab...   \n",
       "2      A rock star must overcome his psychologica...   \n",
       "3      When Sahir, a circus entertainer trained i...   \n",
       "4      When the titular antagonist of an action g...   \n",
       "\n",
       "                                                tags  \n",
       "0      In ancient India, an adventurous and darin...  \n",
       "1      When Shiva, the son of Bahubali, learns ab...  \n",
       "2      A rock star must overcome his psychologica...  \n",
       "3      When Sahir, a circus entertainer trained i...  \n",
       "4      When the titular antagonist of an action g...  "
      ]
     },
     "execution_count": 121,
     "metadata": {},
     "output_type": "execute_result"
    }
   ],
   "source": [
    "movies.head()"
   ]
  },
  {
   "cell_type": "code",
   "execution_count": 122,
   "id": "1c511191-4f78-444e-a305-ce3084fbdc52",
   "metadata": {},
   "outputs": [],
   "source": [
    "new_df = movies[['Movie','tags']]"
   ]
  },
  {
   "cell_type": "code",
   "execution_count": 123,
   "id": "f6bf28cc-63a9-4fe0-a08d-f23b32b4b055",
   "metadata": {},
   "outputs": [
    {
     "data": {
      "text/html": [
       "<div>\n",
       "<style scoped>\n",
       "    .dataframe tbody tr th:only-of-type {\n",
       "        vertical-align: middle;\n",
       "    }\n",
       "\n",
       "    .dataframe tbody tr th {\n",
       "        vertical-align: top;\n",
       "    }\n",
       "\n",
       "    .dataframe thead th {\n",
       "        text-align: right;\n",
       "    }\n",
       "</style>\n",
       "<table border=\"1\" class=\"dataframe\">\n",
       "  <thead>\n",
       "    <tr style=\"text-align: right;\">\n",
       "      <th></th>\n",
       "      <th>Movie</th>\n",
       "      <th>tags</th>\n",
       "    </tr>\n",
       "  </thead>\n",
       "  <tbody>\n",
       "    <tr>\n",
       "      <th>0</th>\n",
       "      <td>Bahubali: The Beginning</td>\n",
       "      <td>In ancient India, an adventurous and darin...</td>\n",
       "    </tr>\n",
       "    <tr>\n",
       "      <th>1</th>\n",
       "      <td>Baahubali 2: The Conclusion</td>\n",
       "      <td>When Shiva, the son of Bahubali, learns ab...</td>\n",
       "    </tr>\n",
       "    <tr>\n",
       "      <th>2</th>\n",
       "      <td>1 - Nenokkadine</td>\n",
       "      <td>A rock star must overcome his psychologica...</td>\n",
       "    </tr>\n",
       "    <tr>\n",
       "      <th>3</th>\n",
       "      <td>Dhoom:3</td>\n",
       "      <td>When Sahir, a circus entertainer trained i...</td>\n",
       "    </tr>\n",
       "    <tr>\n",
       "      <th>4</th>\n",
       "      <td>Ra.One</td>\n",
       "      <td>When the titular antagonist of an action g...</td>\n",
       "    </tr>\n",
       "    <tr>\n",
       "      <th>...</th>\n",
       "      <td>...</td>\n",
       "      <td>...</td>\n",
       "    </tr>\n",
       "    <tr>\n",
       "      <th>1391</th>\n",
       "      <td>Kondura (The Sage from the Sea)</td>\n",
       "      <td>Jogamma is the widow of Brahmin Pandit Ran...</td>\n",
       "    </tr>\n",
       "    <tr>\n",
       "      <th>1392</th>\n",
       "      <td>Money Money More Money</td>\n",
       "      <td>Four friends Chakry, Abbas, Raghu, Gogi (J...</td>\n",
       "    </tr>\n",
       "    <tr>\n",
       "      <th>1396</th>\n",
       "      <td>Jakkanna</td>\n",
       "      <td>The movie is about an attempt by Sunil the...</td>\n",
       "    </tr>\n",
       "    <tr>\n",
       "      <th>1397</th>\n",
       "      <td>Muvva Gopaludu</td>\n",
       "      <td>Muvva Gopaludu is a 1987 Indian Telugu fil...</td>\n",
       "    </tr>\n",
       "    <tr>\n",
       "      <th>1399</th>\n",
       "      <td>9 Nelalu</td>\n",
       "      <td>Surendra marries Savitri, an orphan. In a ...</td>\n",
       "    </tr>\n",
       "  </tbody>\n",
       "</table>\n",
       "<p>1174 rows × 2 columns</p>\n",
       "</div>"
      ],
      "text/plain": [
       "                                Movie  \\\n",
       "0             Bahubali: The Beginning   \n",
       "1         Baahubali 2: The Conclusion   \n",
       "2                     1 - Nenokkadine   \n",
       "3                             Dhoom:3   \n",
       "4                              Ra.One   \n",
       "...                               ...   \n",
       "1391  Kondura (The Sage from the Sea)   \n",
       "1392           Money Money More Money   \n",
       "1396                         Jakkanna   \n",
       "1397                   Muvva Gopaludu   \n",
       "1399                         9 Nelalu   \n",
       "\n",
       "                                                   tags  \n",
       "0         In ancient India, an adventurous and darin...  \n",
       "1         When Shiva, the son of Bahubali, learns ab...  \n",
       "2         A rock star must overcome his psychologica...  \n",
       "3         When Sahir, a circus entertainer trained i...  \n",
       "4         When the titular antagonist of an action g...  \n",
       "...                                                 ...  \n",
       "1391      Jogamma is the widow of Brahmin Pandit Ran...  \n",
       "1392      Four friends Chakry, Abbas, Raghu, Gogi (J...  \n",
       "1396      The movie is about an attempt by Sunil the...  \n",
       "1397      Muvva Gopaludu is a 1987 Indian Telugu fil...  \n",
       "1399      Surendra marries Savitri, an orphan. In a ...  \n",
       "\n",
       "[1174 rows x 2 columns]"
      ]
     },
     "execution_count": 123,
     "metadata": {},
     "output_type": "execute_result"
    }
   ],
   "source": [
    "new_df"
   ]
  },
  {
   "cell_type": "code",
   "execution_count": 124,
   "id": "abaec726-acff-40e0-9cce-7c935104410e",
   "metadata": {},
   "outputs": [],
   "source": [
    "import nltk"
   ]
  },
  {
   "cell_type": "code",
   "execution_count": 125,
   "id": "9e17bea8-db62-420d-81a6-2458bc6245a5",
   "metadata": {},
   "outputs": [],
   "source": [
    "from nltk.stem.porter import PorterStemmer\n",
    "ps = PorterStemmer()"
   ]
  },
  {
   "cell_type": "code",
   "execution_count": 126,
   "id": "4cb40ddf-da5f-4659-80df-68b4f122d8a3",
   "metadata": {},
   "outputs": [],
   "source": [
    "def stem(text):\n",
    "    y=[]\n",
    "    for i in text.split():\n",
    "        y.append(ps.stem(i)) \n",
    "    return\" \".join(y)"
   ]
  },
  {
   "cell_type": "code",
   "execution_count": 127,
   "id": "11eb99e2-a25d-4e9e-b6ac-163a616bcef3",
   "metadata": {},
   "outputs": [
    {
     "name": "stderr",
     "output_type": "stream",
     "text": [
      "C:\\Users\\siris\\AppData\\Local\\Temp\\ipykernel_1192\\3615460838.py:1: SettingWithCopyWarning: \n",
      "A value is trying to be set on a copy of a slice from a DataFrame.\n",
      "Try using .loc[row_indexer,col_indexer] = value instead\n",
      "\n",
      "See the caveats in the documentation: https://pandas.pydata.org/pandas-docs/stable/user_guide/indexing.html#returning-a-view-versus-a-copy\n",
      "  new_df['tags'] =new_df['tags'].apply(stem)\n"
     ]
    }
   ],
   "source": [
    " new_df['tags'] =new_df['tags'].apply(stem)"
   ]
  },
  {
   "cell_type": "code",
   "execution_count": 128,
   "id": "347dd969-6cfa-42d3-ba01-cf8a45d89262",
   "metadata": {},
   "outputs": [
    {
     "data": {
      "text/plain": [
       "'in ancient india, an adventur and dare man becom involv in a decad old feud between two war people.action, drama'"
      ]
     },
     "execution_count": 128,
     "metadata": {},
     "output_type": "execute_result"
    }
   ],
   "source": [
    "new_df['tags'][0]"
   ]
  },
  {
   "cell_type": "code",
   "execution_count": 129,
   "id": "e2c30efb-9192-4555-869d-155925ef43f9",
   "metadata": {},
   "outputs": [],
   "source": [
    "from sklearn.feature_extraction.text import CountVectorizer\n",
    "cv = CountVectorizer(max_features = 5000, stop_words= 'english')"
   ]
  },
  {
   "cell_type": "code",
   "execution_count": 130,
   "id": "6d0cbdd1-815d-46f2-b8ce-50b3d609e220",
   "metadata": {},
   "outputs": [],
   "source": [
    "vectors = cv.fit_transform(new_df['tags']).toarray()"
   ]
  },
  {
   "cell_type": "code",
   "execution_count": 131,
   "id": "d7e121ec-f74e-48db-aaeb-e4f554130135",
   "metadata": {},
   "outputs": [
    {
     "data": {
      "text/plain": [
       "array([0, 0, 0, ..., 0, 0, 0], dtype=int64)"
      ]
     },
     "execution_count": 131,
     "metadata": {},
     "output_type": "execute_result"
    }
   ],
   "source": [
    "vectors[0]"
   ]
  },
  {
   "cell_type": "code",
   "execution_count": 132,
   "id": "6e6b6e04-adef-46fa-951c-e617d9b7b289",
   "metadata": {},
   "outputs": [
    {
     "data": {
      "text/plain": [
       "4579"
      ]
     },
     "execution_count": 132,
     "metadata": {},
     "output_type": "execute_result"
    }
   ],
   "source": [
    "len(cv.get_feature_names_out())"
   ]
  },
  {
   "cell_type": "code",
   "execution_count": 133,
   "id": "83c48fcb-8b72-4dfa-9f47-dc56d59bbfb3",
   "metadata": {},
   "outputs": [
    {
     "data": {
      "text/plain": [
       "['love', 'love', 'love']"
      ]
     },
     "execution_count": 133,
     "metadata": {},
     "output_type": "execute_result"
    }
   ],
   "source": [
    "['loved', 'loving','love']\n",
    "['love','love','love']"
   ]
  },
  {
   "cell_type": "code",
   "execution_count": 134,
   "id": "b1975c83-4eab-4ca4-bd65-65e5a43202b7",
   "metadata": {},
   "outputs": [
    {
     "data": {
      "text/plain": [
       "'in ancient india, an adventur and dare man becom involv in a decad old feud between two war people.action, drama'"
      ]
     },
     "execution_count": 134,
     "metadata": {},
     "output_type": "execute_result"
    }
   ],
   "source": [
    "stem(' In ancient India, an adventurous and daring man becomes involved in a decades old feud between two warring people.Action, Drama  ')"
   ]
  },
  {
   "cell_type": "code",
   "execution_count": 135,
   "id": "711a3959-150f-4da1-8772-7d3767178b2f",
   "metadata": {},
   "outputs": [],
   "source": [
    "from sklearn.metrics.pairwise import cosine_similarity"
   ]
  },
  {
   "cell_type": "code",
   "execution_count": 136,
   "id": "b60f0534-cedf-45fa-a9b6-7fda2fb004d3",
   "metadata": {},
   "outputs": [
    {
     "data": {
      "text/plain": [
       "(1174, 1174)"
      ]
     },
     "execution_count": 136,
     "metadata": {},
     "output_type": "execute_result"
    }
   ],
   "source": [
    "cosine_similarity(vectors).shape"
   ]
  },
  {
   "cell_type": "code",
   "execution_count": 137,
   "id": "8d3a47c4-d8c9-4457-b768-068c1e2cc46e",
   "metadata": {},
   "outputs": [],
   "source": [
    "similarity = cosine_similarity(vectors)"
   ]
  },
  {
   "cell_type": "code",
   "execution_count": 138,
   "id": "2d5f46c7-c0bc-491f-b61b-26e1608a8c14",
   "metadata": {},
   "outputs": [
    {
     "data": {
      "text/plain": [
       "[(651, 0.3779644730092272),\n",
       " (730, 0.33407655239053047),\n",
       " (687, 0.3086066999241839),\n",
       " (279, 0.28347335475692037),\n",
       " (314, 0.28347335475692037)]"
      ]
     },
     "execution_count": 138,
     "metadata": {},
     "output_type": "execute_result"
    }
   ],
   "source": [
    "sorted(list(enumerate(similarity[0])),reverse=True,key=lambda x:x[1])[1:6]"
   ]
  },
  {
   "cell_type": "code",
   "execution_count": 139,
   "id": "96ebfb55-eba2-4a97-ad11-ba45858fc3d2",
   "metadata": {},
   "outputs": [
    {
     "data": {
      "text/plain": [
       "1389"
      ]
     },
     "execution_count": 139,
     "metadata": {},
     "output_type": "execute_result"
    }
   ],
   "source": [
    "new_df[new_df['Movie']== 'Billa Ranga'].index[0]"
   ]
  },
  {
   "cell_type": "code",
   "execution_count": 140,
   "id": "5940d6b1-5878-4f9a-9bc4-ab1d146decb9",
   "metadata": {},
   "outputs": [],
   "source": [
    "def recommend(movie):\n",
    "    movie_index = new_df[new_df['Movie']== movie].index[0]\n",
    "    distances = similarity[movie_index]\n",
    "    movies_list = sorted(list(enumerate(distances)),reverse=True,key=lambda x:x[1])[1:6]\n",
    "\n",
    "    for i in movies_list:\n",
    "        print(new_df.iloc[i[0]].Movie)\n",
    "       "
   ]
  },
  {
   "cell_type": "code",
   "execution_count": 141,
   "id": "67a422a5-4489-4e6e-8334-6ebe0b9682fe",
   "metadata": {},
   "outputs": [
    {
     "name": "stdout",
     "output_type": "stream",
     "text": [
      "Amma Nanna O Tamila Ammayi\n",
      "Krishnam Vande Jagadgurum\n",
      "Kochadaiiyaan\n",
      "Thaandavam\n",
      "Keshava\n"
     ]
    }
   ],
   "source": [
    "recommend('1 - Nenokkadine')"
   ]
  },
  {
   "cell_type": "code",
   "execution_count": 142,
   "id": "026b2482-8848-40ae-a940-d7cc1c449474",
   "metadata": {},
   "outputs": [
    {
     "data": {
      "text/plain": [
       "'Uyyala Jampala'"
      ]
     },
     "execution_count": 142,
     "metadata": {},
     "output_type": "execute_result"
    }
   ],
   "source": [
    "new_df.iloc[316].Movie"
   ]
  },
  {
   "cell_type": "code",
   "execution_count": 143,
   "id": "9f1b732b-a764-46ce-a64d-b883b5d80a97",
   "metadata": {},
   "outputs": [],
   "source": [
    "import pickle"
   ]
  },
  {
   "cell_type": "code",
   "execution_count": 144,
   "id": "aa3d35e8-9514-4e5e-bd8c-8db1f0d99c28",
   "metadata": {},
   "outputs": [
    {
     "data": {
      "text/plain": [
       "array(['Bahubali: The Beginning', 'Baahubali 2: The Conclusion',\n",
       "       '1 - Nenokkadine', ..., 'Jakkanna', 'Muvva Gopaludu', '9 Nelalu'],\n",
       "      dtype=object)"
      ]
     },
     "execution_count": 144,
     "metadata": {},
     "output_type": "execute_result"
    }
   ],
   "source": [
    "new_df['Movie'].values"
   ]
  },
  {
   "cell_type": "code",
   "execution_count": 145,
   "id": "e287b3a5-8e0c-4f1c-ab77-0661ad5217a7",
   "metadata": {},
   "outputs": [],
   "source": [
    "pickle.dump(new_df.to_dict(),open('movie_dict.pkl','wb'))"
   ]
  },
  {
   "cell_type": "code",
   "execution_count": 146,
   "id": "af1cb2e5-c171-4a7b-a7fe-e5fc0e8d9e70",
   "metadata": {},
   "outputs": [],
   "source": [
    "pickle.dump(similarity,open('similarity.pkl','wb'))"
   ]
  },
  {
   "cell_type": "code",
   "execution_count": 147,
   "id": "5508706f-909e-41e8-9c57-4df9eecdaf4a",
   "metadata": {},
   "outputs": [],
   "source": [
    "from sklearn.feature_extraction.text import TfidfVectorizer\n",
    "from sklearn.metrics.pairwise import cosine_similarity\n",
    "\n",
    "# Combine genres and overview\n",
    "movies['combined_features'] = movies['Genre'] + \" \" + movies['Overview']\n",
    "\n",
    "# Create TF-IDF vectors\n",
    "vectorizer = TfidfVectorizer(stop_words='english')\n",
    "tfidf_matrix = vectorizer.fit_transform(movies['combined_features'])\n",
    "\n",
    "# Compute similarity matrix\n",
    "similarity = cosine_similarity(tfidf_matrix)\n"
   ]
  },
  {
   "cell_type": "code",
   "execution_count": null,
   "id": "00349bda-e7ff-483a-8d00-fbe09ed1e2eb",
   "metadata": {},
   "outputs": [],
   "source": []
  },
  {
   "cell_type": "code",
   "execution_count": null,
   "id": "2a4909e4-96ef-4a7e-b56f-70f10465f3a9",
   "metadata": {},
   "outputs": [],
   "source": []
  },
  {
   "cell_type": "code",
   "execution_count": null,
   "id": "cce210d5-1b19-4f59-a4af-21d185bb3823",
   "metadata": {},
   "outputs": [],
   "source": []
  }
 ],
 "metadata": {
  "kernelspec": {
   "display_name": "Python 3 (ipykernel)",
   "language": "python",
   "name": "python3"
  },
  "language_info": {
   "codemirror_mode": {
    "name": "ipython",
    "version": 3
   },
   "file_extension": ".py",
   "mimetype": "text/x-python",
   "name": "python",
   "nbconvert_exporter": "python",
   "pygments_lexer": "ipython3",
   "version": "3.12.7"
  }
 },
 "nbformat": 4,
 "nbformat_minor": 5
}
